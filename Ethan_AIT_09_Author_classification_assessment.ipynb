{
  "nbformat": 4,
  "nbformat_minor": 0,
  "metadata": {
    "kernelspec": {
      "display_name": "Python 3",
      "language": "python",
      "name": "python3"
    },
    "language_info": {
      "codemirror_mode": {
        "name": "ipython",
        "version": 3
      },
      "file_extension": ".py",
      "mimetype": "text/x-python",
      "name": "python",
      "nbconvert_exporter": "python",
      "pygments_lexer": "ipython3",
      "version": "3.6.6"
    },
    "colab": {
      "provenance": [],
      "include_colab_link": true
    }
  },
  "cells": [
    {
      "cell_type": "markdown",
      "metadata": {
        "id": "view-in-github",
        "colab_type": "text"
      },
      "source": [
        "<a href=\"https://colab.research.google.com/github/EthanMcFarlin/ait-deep-learning-assessment-6/blob/main/Ethan_AIT_09_Author_classification_assessment.ipynb\" target=\"_parent\"><img src=\"https://colab.research.google.com/assets/colab-badge.svg\" alt=\"Open In Colab\"/></a>"
      ]
    },
    {
      "cell_type": "markdown",
      "metadata": {
        "id": "_jiGtJu6u9ml"
      },
      "source": [
        "# Copyright\n",
        "\n",
        "<PRE>\n",
        "Copyright (c) 2023 Bálint Gyires-Tóth - All Rights Reserved\n",
        "You may use and modify this code for research and development purpuses.\n",
        "Use this code for educational purposes (self-paced or instructor led) without the permission of the author is prohibited.\n",
        "</PRE>"
      ]
    },
    {
      "cell_type": "markdown",
      "metadata": {
        "id": "oXyFC44jV-PP"
      },
      "source": [
        "# Author classification\n",
        "The task is to train a 1D CNN or an LSTM that is able to  classify text from two authors. The final model should be able to tell about a text with a given length (e.g. 60 characters) who wrote it. \n",
        "\n",
        "Please write the codes according to the following parts:"
      ]
    },
    {
      "cell_type": "markdown",
      "metadata": {
        "id": "jCnLoeGrHXsp"
      },
      "source": [
        "## Python module imports\n",
        "Import all Python modules that you would need during the Assignment."
      ]
    },
    {
      "cell_type": "code",
      "metadata": {
        "id": "7itbFGt3HXVT"
      },
      "source": [
        "import numpy as np\n",
        "import pandas as pd\n",
        "from tensorflow.keras.models import Sequential\n",
        "from tensorflow.keras.utils import to_categorical\n",
        "from tensorflow.keras.layers import Activation, Dense, Flatten, Conv1D, MaxPooling1D, Dropout\n",
        "from tensorflow.keras.callbacks import EarlyStopping\n",
        "from tensorflow.keras.layers import LSTM\n",
        "from tensorflow.keras.optimizers import RMSprop\n",
        "from tensorflow.keras.optimizers import SGD\n",
        "from sklearn.metrics import confusion_matrix\n",
        "from sklearn.model_selection import train_test_split\n",
        "import matplotlib.pyplot as plt\n",
        "import seaborn as sns\n",
        "from urllib.request import urlopen"
      ],
      "execution_count": 13,
      "outputs": []
    },
    {
      "cell_type": "markdown",
      "metadata": {
        "id": "Hr617tEpHd8R"
      },
      "source": [
        "## Data acquisition\n",
        "Seek a possible dataset, you can use any source, e.g.\n",
        "* http://www.gutenberg.org/\n",
        "* https://www.kaggle.com/datasets\n",
        "* https://paperswithcode.com/datasets\n",
        "* if you would like to learn Hungarian, than e.g. https://mek.oszk.hu/\n",
        "\n",
        "You can download the text by hand (e.g. by copy-pasting some parts into txt files) or with Python. "
      ]
    },
    {
      "cell_type": "code",
      "metadata": {
        "id": "NgkdQxHqHdZB"
      },
      "source": [
        "# The data— obtained from Gutenberg.org— consists of the full source text for two pieces of classic literature: Bram Stoker's 1897 novel \"Dracula\" \n",
        "# and Herman Melville's 1851 novel \"Moby-Dick; or, The Whale\".\n",
        "\n",
        "# dracula: https://www.gutenberg.org/cache/epub/345/pg345.txt\n",
        "# moby dick: https://www.gutenberg.org/files/2701/2701-0.txt\n",
        "\n",
        "# Source text is read and saved to a local variable using the library urlopen\n",
        "dracula = urlopen(\"https://www.gutenberg.org/cache/epub/345/pg345.txt\").read().decode('utf-8').replace('\\r\\n', ' ')\n",
        "moby_dick = urlopen(\"https://www.gutenberg.org/files/2701/2701-0.txt\").read().decode('utf-8').replace('\\r\\n', ' ')\n"
      ],
      "execution_count": 2,
      "outputs": []
    },
    {
      "cell_type": "markdown",
      "source": [
        "## Data analysis\n",
        "Count the number of characters from both authors and display them on a plot (e.g. Seaborn's countplot)."
      ],
      "metadata": {
        "id": "U9Pmq91t3SRD"
      }
    },
    {
      "cell_type": "code",
      "source": [
        "# Total length (in characters) of Dracula\n",
        "dracula_len = sum(len(word) for word in dracula)\n",
        "print(\"Dracula Length: \" + str(dracula_len))\n",
        "\n",
        "# Total length (in characters) of Moby Dick\n",
        "moby_dick_len = sum(len(word) for word in moby_dick)\n",
        "print(\"Moby Dick Length: \" +  str(moby_dick_len))\n",
        "\n",
        "# Visualization of text lengths using a Seaborn Counterplot\n",
        "countplot_data = {\"moby_dick\": moby_dick_len, \"dracula\": dracula_len}\n",
        "countplot_keys = list(countplot_data.keys())\n",
        "countplot_values = [countplot_data[key] for key in countplot_keys]\n",
        "\n",
        "# Data is stored in a Python dictionary\n",
        "sns.barplot(x = countplot_keys, y = countplot_values)\n"
      ],
      "metadata": {
        "id": "uRqGdn4F3Spk",
        "colab": {
          "base_uri": "https://localhost:8080/",
          "height": 499
        },
        "outputId": "0ee2df50-5d3f-4755-bf71-47047096e4ab"
      },
      "execution_count": 16,
      "outputs": [
        {
          "output_type": "stream",
          "name": "stdout",
          "text": [
            "Dracula Length: 865720\n",
            "Moby Dick Length: 1238355\n"
          ]
        },
        {
          "output_type": "execute_result",
          "data": {
            "text/plain": [
              "<Axes: >"
            ]
          },
          "metadata": {},
          "execution_count": 16
        },
        {
          "output_type": "display_data",
          "data": {
            "text/plain": [
              "<Figure size 640x480 with 1 Axes>"
            ],
            "image/png": "[encoded data removed]"
          },
          "metadata": {}
        }
      ]
    },
    {
      "cell_type": "markdown",
      "metadata": {
        "id": "cHyE_ndGIblJ"
      },
      "source": [
        "## Data loading, labeling and preprocessing\n",
        "Load the data and convert the characters into one-hot encodings. Then load the data into a 3D NumPy array, with a shape of\n",
        "\n",
        "* (batch, sequence_length, alphabet_length)\n",
        "\n",
        "where sequence_length=60, and alphabet_length equals to the number of unique characters in both datasets. The sequences should be cut out from the complete dataset by sliding window. You should add 0 and 1 labels to the sequences, according to the author. \n",
        "\n",
        "Later you may change sequence_length to achieve better results!"
      ]
    },
    {
      "cell_type": "code",
      "metadata": {
        "id": "arooXt0WIb6x",
        "colab": {
          "base_uri": "https://localhost:8080/"
        },
        "outputId": "b5316039-4a96-408c-f038-31ccf3ebf722"
      },
      "source": [
        "# Initializing the sequence length to 60\n",
        "sequence_length = 60\n",
        "\n",
        "# Sorting and counting distinct characters in either text\n",
        "dracula_unique_characters = sorted(set(dracula))\n",
        "moby_dick_unique_characters = sorted(set(moby_dick))\n",
        "combined_unique_characters = sorted(set(dracula + moby_dick))\n",
        "combined_unique_characters_length = len(combined_unique_characters)\n",
        "\n",
        "# Building combined index to char and char to index dictionaries\n",
        "char_indices = dict((c, i) for i, c in enumerate(combined_unique_characters))\n",
        "indices_char = dict((i, c) for i, c in enumerate(combined_unique_characters))\n",
        "\n",
        "# Initializing variables used in the one-hot encodings\n",
        "dracula_sentences = []\n",
        "moby_dick_sentences = []\n",
        "\n",
        "# Extracting individual sentences from Dracula text using specified sequence length\n",
        "for i in range(0, len(dracula), sequence_length):\n",
        "    dracula_sentences.append(dracula[i : i + sequence_length])\n",
        "\n",
        "# Extracting individual sentences from Moby Dick text using specified sequence length\n",
        "for i in range(0, len(moby_dick), sequence_length):\n",
        "    moby_dick_sentences.append(moby_dick[i : i + sequence_length])\n",
        "\n",
        "# Combining separate sentences from the two texts into a combined data structure\n",
        "combined_sentences = dracula_sentences + moby_dick_sentences\n",
        "combined_sentences_length = len(combined_sentences)\n",
        "print(\"Length of combined sentences: \", combined_sentences_length)\n",
        "\n",
        "# Applying one-hot encoding to the input and target data\n",
        "x = np.zeros((combined_sentences_length, sequence_length, combined_unique_characters_length), dtype = float)\n",
        "y = np.zeros((combined_sentences_length, 1), dtype=float)\n",
        "\n",
        "# Setting an offset to distinguish between membership of the two texts in the 3D NumPy array\n",
        "index_offset = len(dracula_sentences)\n",
        "\n",
        "# Setting the appropriate sequence label for Dracula— 1\n",
        "for outer_index, sequence in enumerate(dracula_sentences):\n",
        "    for inner_index, character in enumerate(sequence): \n",
        "        x[outer_index, inner_index, char_indices[character]] = 1\n",
        "    y[outer_index][0] = 1\n",
        "\n",
        "# Setting the appropriate sequence label for Moby Dick— 0\n",
        "for outer_index, sequence in enumerate(moby_dick_sentences):\n",
        "    for inner_index, character in enumerate(sequence): \n",
        "        x[outer_index + index_offset, inner_index, char_indices[character]] = 1\n",
        "    y[outer_index + index_offset][0] = 0 \n"
      ],
      "execution_count": 17,
      "outputs": [
        {
          "output_type": "stream",
          "name": "stdout",
          "text": [
            "Length of combined sentences:  35069\n"
          ]
        }
      ]
    },
    {
      "cell_type": "markdown",
      "metadata": {
        "id": "lL1Mc8ibHnep"
      },
      "source": [
        "## Data splitting\n",
        "Split the data into train, validate and test sets. Make "
      ]
    },
    {
      "cell_type": "code",
      "metadata": {
        "id": "ELyG9XFUHrkB"
      },
      "source": [
        "# Leveraging 'train_test_split' from 'sklearn.model_selection' to separate input and target data into test sets\n",
        "x_train, x_test, y_train, y_test = train_test_split(x, y, test_size = 0.15)\n",
        "\n",
        "# Appyling the same technique to separate out a subset of the data into a validation set\n",
        "x_train, x_val, y_train, y_val = train_test_split(x_train, y_train, test_size = 0.2)"
      ],
      "execution_count": 18,
      "outputs": []
    },
    {
      "cell_type": "markdown",
      "metadata": {
        "id": "hA8U9tr7HrNQ"
      },
      "source": [
        "## Model definition\n",
        "Define a 1D CNN or an LSTM for the task. Compile the model with the correct loss function."
      ]
    },
    {
      "cell_type": "code",
      "source": [
        "# Defining model structure\n",
        "model = Sequential()\n",
        "\n",
        "# Adding additional layers\n",
        "model.add(Conv1D(filters=64, kernel_size=48, activation='relu', kernel_initializer='he_normal', input_shape=(sequence_length, combined_unique_characters_length), padding='same'))\n",
        "model.add(Dense(1, activation=\"sigmoid\"))\n",
        "model.add(MaxPooling1D())\n",
        "model.add(Dropout(0.15))\n",
        "model.add(Flatten())\n",
        "model.add(Dense(128, activation='tanh'))\n",
        "model.add(Dropout(0.35))\n",
        "model.add(Dense(y_train.shape[1], activation='sigmoid'))\n",
        "\n",
        "# Compiling and summarizing model\n",
        "model.compile(loss='binary_crossentropy', optimizer='adam', metrics=['accuracy'])\n",
        "model.summary()"
      ],
      "metadata": {
        "colab": {
          "base_uri": "https://localhost:8080/"
        },
        "id": "-RGqm3-ioTVZ",
        "outputId": "51deaf34-ef9a-46bc-cf37-12319a21a6ab"
      },
      "execution_count": 19,
      "outputs": [
        {
          "output_type": "stream",
          "name": "stdout",
          "text": [
            "Model: \"sequential_2\"\n",
            "_________________________________________________________________\n",
            " Layer (type)                Output Shape              Param #   \n",
            "=================================================================\n",
            " conv1d_2 (Conv1D)           (None, 60, 64)            347200    \n",
            "                                                                 \n",
            " dense_6 (Dense)             (None, 60, 1)             65        \n",
            "                                                                 \n",
            " max_pooling1d_2 (MaxPooling  (None, 30, 1)            0         \n",
            " 1D)                                                             \n",
            "                                                                 \n",
            " dropout_4 (Dropout)         (None, 30, 1)             0         \n",
            "                                                                 \n",
            " flatten_2 (Flatten)         (None, 30)                0         \n",
            "                                                                 \n",
            " dense_7 (Dense)             (None, 128)               3968      \n",
            "                                                                 \n",
            " dropout_5 (Dropout)         (None, 128)               0         \n",
            "                                                                 \n",
            " dense_8 (Dense)             (None, 1)                 129       \n",
            "                                                                 \n",
            "=================================================================\n",
            "Total params: 351,362\n",
            "Trainable params: 351,362\n",
            "Non-trainable params: 0\n",
            "_________________________________________________________________\n"
          ]
        }
      ]
    },
    {
      "cell_type": "markdown",
      "metadata": {
        "id": "hWFb-nAMHuAI"
      },
      "source": [
        "## Model training\n",
        "Train the model and apply early stopping."
      ]
    },
    {
      "cell_type": "code",
      "metadata": {
        "id": "dvgKjqp3Hwkp",
        "colab": {
          "base_uri": "https://localhost:8080/"
        },
        "outputId": "c3af5207-32a8-43c0-ccb4-c84e93c23718"
      },
      "source": [
        "# Applying early stopping from 'tensorflow.keras.callbacks'\n",
        "es = EarlyStopping(patience = 10, restore_best_weights = True, monitor = \"val_loss\")\n",
        "\n",
        "# Fitting the model to the data with 40 epochs\n",
        "model.fit(x_train, y_train, \n",
        "          epochs=40, batch_size=32,\n",
        "          validation_data = (x_val, y_val),\n",
        "          callbacks= [es],\n",
        "          verbose=2)"
      ],
      "execution_count": 20,
      "outputs": [
        {
          "output_type": "stream",
          "name": "stdout",
          "text": [
            "Epoch 1/40\n",
            "746/746 - 63s - loss: 0.5555 - accuracy: 0.6996 - val_loss: 0.4559 - val_accuracy: 0.7880 - 63s/epoch - 84ms/step\n",
            "Epoch 2/40\n",
            "746/746 - 62s - loss: 0.4539 - accuracy: 0.7780 - val_loss: 0.4740 - val_accuracy: 0.7442 - 62s/epoch - 83ms/step\n",
            "Epoch 3/40\n",
            "746/746 - 60s - loss: 0.4127 - accuracy: 0.8037 - val_loss: 0.4108 - val_accuracy: 0.8074 - 60s/epoch - 81ms/step\n",
            "Epoch 4/40\n",
            "746/746 - 60s - loss: 0.3647 - accuracy: 0.8272 - val_loss: 0.4005 - val_accuracy: 0.8111 - 60s/epoch - 80ms/step\n",
            "Epoch 5/40\n",
            "746/746 - 62s - loss: 0.3135 - accuracy: 0.8567 - val_loss: 0.4408 - val_accuracy: 0.7739 - 62s/epoch - 83ms/step\n",
            "Epoch 6/40\n",
            "746/746 - 61s - loss: 0.2513 - accuracy: 0.8938 - val_loss: 0.4258 - val_accuracy: 0.8043 - 61s/epoch - 82ms/step\n",
            "Epoch 7/40\n",
            "746/746 - 66s - loss: 0.1861 - accuracy: 0.9258 - val_loss: 0.5164 - val_accuracy: 0.8121 - 66s/epoch - 88ms/step\n",
            "Epoch 8/40\n",
            "746/746 - 62s - loss: 0.1368 - accuracy: 0.9487 - val_loss: 0.5370 - val_accuracy: 0.8068 - 62s/epoch - 83ms/step\n",
            "Epoch 9/40\n",
            "746/746 - 61s - loss: 0.1080 - accuracy: 0.9587 - val_loss: 0.6167 - val_accuracy: 0.8106 - 61s/epoch - 82ms/step\n",
            "Epoch 10/40\n",
            "746/746 - 61s - loss: 0.0774 - accuracy: 0.9720 - val_loss: 0.7532 - val_accuracy: 0.7677 - 61s/epoch - 82ms/step\n",
            "Epoch 11/40\n",
            "746/746 - 60s - loss: 0.0688 - accuracy: 0.9753 - val_loss: 0.7634 - val_accuracy: 0.8026 - 60s/epoch - 81ms/step\n",
            "Epoch 12/40\n",
            "746/746 - 62s - loss: 0.0609 - accuracy: 0.9787 - val_loss: 0.7581 - val_accuracy: 0.8028 - 62s/epoch - 82ms/step\n",
            "Epoch 13/40\n",
            "746/746 - 61s - loss: 0.0460 - accuracy: 0.9841 - val_loss: 1.0003 - val_accuracy: 0.8063 - 61s/epoch - 82ms/step\n",
            "Epoch 14/40\n",
            "746/746 - 65s - loss: 0.0500 - accuracy: 0.9829 - val_loss: 0.9422 - val_accuracy: 0.8076 - 65s/epoch - 88ms/step\n"
          ]
        },
        {
          "output_type": "execute_result",
          "data": {
            "text/plain": [
              "<keras.callbacks.History at 0x7efb2c2b6460>"
            ]
          },
          "metadata": {},
          "execution_count": 20
        }
      ]
    },
    {
      "cell_type": "markdown",
      "metadata": {
        "id": "0omw2XzSHwOo"
      },
      "source": [
        "## Evaluation on test data\n",
        "Evaluate the model on the test data in terms of loss and accuracy."
      ]
    },
    {
      "cell_type": "code",
      "metadata": {
        "id": "4bF3dQA1Hv_R",
        "colab": {
          "base_uri": "https://localhost:8080/"
        },
        "outputId": "7aa06ba2-9ae0-4fa7-afa7-ccd9db91c828"
      },
      "source": [
        "# Evaluating and outputting the model performance\n",
        "print(\"Model performance, in terms of loss (first value) and accuracy (second value): \", model.evaluate(x_test, y_test))"
      ],
      "execution_count": 21,
      "outputs": [
        {
          "output_type": "stream",
          "name": "stdout",
          "text": [
            "165/165 [==============================] - 4s 27ms/step - loss: 0.4050 - accuracy: 0.8052\n",
            "Model performance, in terms of loss (first value) and accuracy (second value):  [0.4050202965736389, 0.8051701188087463]\n"
          ]
        }
      ]
    },
    {
      "cell_type": "markdown",
      "metadata": {
        "id": "4Y73Q-h5Hz1r"
      },
      "source": [
        "## Confusion matrix\n",
        "Calculate and display the confusion matrix."
      ]
    },
    {
      "cell_type": "code",
      "metadata": {
        "id": "cW8zZi1uJm2B",
        "colab": {
          "base_uri": "https://localhost:8080/",
          "height": 466
        },
        "outputId": "86727d99-8bed-4eb8-9fdc-f97fda4f1f3c"
      },
      "source": [
        "# Generating confusion matrix\n",
        "conf = confusion_matrix(y_test, np.rint(model.predict(x_test)))\n",
        "\n",
        "# Plotting confusion matrix using 'seaborn'\n",
        "sns.heatmap(conf, annot= True, fmt='d')"
      ],
      "execution_count": 22,
      "outputs": [
        {
          "output_type": "stream",
          "name": "stdout",
          "text": [
            "165/165 [==============================] - 6s 34ms/step\n"
          ]
        },
        {
          "output_type": "execute_result",
          "data": {
            "text/plain": [
              "<Axes: >"
            ]
          },
          "metadata": {},
          "execution_count": 22
        },
        {
          "output_type": "display_data",
          "data": {
            "text/plain": [
              "<Figure size 640x480 with 2 Axes>"
            ],
            "image/png": "[encoded data removed]"
          },
          "metadata": {}
        }
      ]
    }
  ]
}