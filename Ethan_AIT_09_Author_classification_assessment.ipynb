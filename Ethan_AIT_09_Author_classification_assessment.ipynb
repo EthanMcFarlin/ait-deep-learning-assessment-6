{
  "nbformat": 4,
  "nbformat_minor": 0,
  "metadata": {
    "kernelspec": {
      "display_name": "Python 3",
      "language": "python",
      "name": "python3"
    },
    "language_info": {
      "codemirror_mode": {
        "name": "ipython",
        "version": 3
      },
      "file_extension": ".py",
      "mimetype": "text/x-python",
      "name": "python",
      "nbconvert_exporter": "python",
      "pygments_lexer": "ipython3",
      "version": "3.6.6"
    },
    "colab": {
      "provenance": [],
      "include_colab_link": true
    }
  },
  "cells": [
    {
      "cell_type": "markdown",
      "metadata": {
        "id": "view-in-github",
        "colab_type": "text"
      },
      "source": [
        "<a href=\"https://colab.research.google.com/github/EthanMcFarlin/ait-deep-learning-assessment-6/blob/main/Ethan_AIT_09_Author_classification_assessment.ipynb\" target=\"_parent\"><img src=\"https://colab.research.google.com/assets/colab-badge.svg\" alt=\"Open In Colab\"/></a>"
      ]
    },
    {
      "cell_type": "markdown",
      "metadata": {
        "id": "_jiGtJu6u9ml"
      },
      "source": [
        "# Copyright\n",
        "\n",
        "<PRE>\n",
        "Copyright (c) 2023 Bálint Gyires-Tóth - All Rights Reserved\n",
        "You may use and modify this code for research and development purpuses.\n",
        "Use this code for educational purposes (self-paced or instructor led) without the permission of the author is prohibited.\n",
        "</PRE>"
      ]
    },
    {
      "cell_type": "markdown",
      "metadata": {
        "id": "oXyFC44jV-PP"
      },
      "source": [
        "# Author classification\n",
        "The task is to train a 1D CNN or an LSTM that is able to  classify text from two authors. The final model should be able to tell about a text with a given length (e.g. 60 characters) who wrote it. \n",
        "\n",
        "Please write the codes according to the following parts:"
      ]
    },
    {
      "cell_type": "markdown",
      "metadata": {
        "id": "jCnLoeGrHXsp"
      },
      "source": [
        "## Python module imports\n",
        "Import all Python modules that you would need during the Assignment."
      ]
    },
    {
      "cell_type": "code",
      "metadata": {
        "id": "7itbFGt3HXVT"
      },
      "source": [
        "import numpy as np\n",
        "import pandas as pd\n",
        "from tensorflow.keras.models import Sequential\n",
        "from tensorflow.keras.utils import to_categorical\n",
        "from tensorflow.keras.layers import Activation, Dense, Flatten, Conv1D, MaxPooling1D, Dropout\n",
        "from tensorflow.keras.callbacks import EarlyStopping\n",
        "from tensorflow.keras.optimizers import SGD\n",
        "import matplotlib.pyplot as plt\n",
        "import seaborn as sns\n",
        "from urllib.request import urlopen"
      ],
      "execution_count": 4,
      "outputs": []
    },
    {
      "cell_type": "markdown",
      "metadata": {
        "id": "Hr617tEpHd8R"
      },
      "source": [
        "## Data acquisition\n",
        "Seek a possible dataset, you can use any source, e.g.\n",
        "* http://www.gutenberg.org/\n",
        "* https://www.kaggle.com/datasets\n",
        "* https://paperswithcode.com/datasets\n",
        "* if you would like to learn Hungarian, than e.g. https://mek.oszk.hu/\n",
        "\n",
        "You can download the text by hand (e.g. by copy-pasting some parts into txt files) or with Python. "
      ]
    },
    {
      "cell_type": "code",
      "metadata": {
        "id": "NgkdQxHqHdZB"
      },
      "source": [
        "# The data— obtained from Gutenberg.org— consists of the full source text for two pieces of classic literature: Bram Stoker's 1897 novel \"Dracula\" \n",
        "# and Herman Melville's 1851 novel \"Moby-Dick; or, The Whale\".\n",
        "\n",
        "# dracula: https://www.gutenberg.org/cache/epub/345/pg345.txt\n",
        "# moby dick: https://www.gutenberg.org/files/2701/2701-0.txt\n",
        "\n",
        "# Source text is read and saved to a local variable using the library urlopen\n",
        "dracula = urlopen(\"https://www.gutenberg.org/cache/epub/345/pg345.txt\").read().decode('utf-8').replace('\\r\\n', ' ')\n",
        "moby_dick = urlopen(\"https://www.gutenberg.org/files/2701/2701-0.txt\").read().decode('utf-8').replace('\\r\\n', ' ')\n"
      ],
      "execution_count": 68,
      "outputs": []
    },
    {
      "cell_type": "markdown",
      "source": [
        "## Data analysis\n",
        "Count the number of characters from both authors and display them on a plot (e.g. Seaborn's countplot)."
      ],
      "metadata": {
        "id": "U9Pmq91t3SRD"
      }
    },
    {
      "cell_type": "code",
      "source": [
        "# Total length (in characters) of Dracula\n",
        "dracula_len = sum(len(word) for word in dracula)\n",
        "print(\"Dracula Length: \" + str(dracula_len))\n",
        "\n",
        "# Total length (in characters) of Moby Dick\n",
        "moby_dick_len = sum(len(word) for word in moby_dick)\n",
        "print(\"Moby Dick Length: \" +  str(moby_dick_len))\n",
        "\n",
        "# Visualization of text lengths using a Seaborn Counterplot\n",
        "countplot_data = {\"moby_dick\": moby_dick_len, \"dracula\": dracula_len}\n",
        "countplot_keys = list(countplot_data.keys())\n",
        "countplot_values = [countplot_data[key] for key in countplot_keys]\n",
        "# Data is stored in a Python dictionary\n",
        "sns.barplot(x = countplot_keys, y = countplot_values)\n"
      ],
      "metadata": {
        "id": "uRqGdn4F3Spk",
        "outputId": "4f9d3eca-f480-41e1-f9ed-c64a5e90a738",
        "colab": {
          "base_uri": "https://localhost:8080/",
          "height": 499
        }
      },
      "execution_count": 36,
      "outputs": [
        {
          "output_type": "stream",
          "name": "stdout",
          "text": [
            "Dracula Length: 865720\n",
            "Moby Dick Length: 1238355\n"
          ]
        },
        {
          "output_type": "execute_result",
          "data": {
            "text/plain": [
              "<Axes: >"
            ]
          },
          "metadata": {},
          "execution_count": 36
        },
        {
          "output_type": "display_data",
          "data": {
            "text/plain": [
              "<Figure size 640x480 with 1 Axes>"
            ],
            "image/png": "[encoded data removed]"
          },
          "metadata": {}
        }
      ]
    },
    {
      "cell_type": "markdown",
      "metadata": {
        "id": "cHyE_ndGIblJ"
      },
      "source": [
        "## Data loading, labeling and preprocessing\n",
        "Load the data and convert the characters into one-hot encodings. Then load the data into a 3D NumPy array, with a shape of\n",
        "\n",
        "* (batch, sequence_length, alphabet_length)\n",
        "\n",
        "where sequence_length=60, and alphabet_length equals to the number of unique characters in both datasets. The sequences should be cut out from the complete dataset by sliding window. You should add 0 and 1 labels to the sequences, according to the author. \n",
        "\n",
        "Later you may change sequence_length to achieve better results!"
      ]
    },
    {
      "cell_type": "code",
      "metadata": {
        "id": "arooXt0WIb6x",
        "outputId": "ae951514-d9e4-49dd-db7d-2464a2cc96bc",
        "colab": {
          "base_uri": "https://localhost:8080/"
        }
      },
      "source": [
        "# Initializing the sequence length to 60\n",
        "sequence_length = 60\n",
        "\n",
        "# Sorting and counting distinct characters in either text\n",
        "dracula_unique_characters = sorted(set(dracula))\n",
        "moby_dick_unique_characters = sorted(set(moby_dick))\n",
        "combined_unique_characters = sorted(set(dracula + moby_dick))\n",
        "\n",
        "# Creating a set of (i) character to index and (ii) index to character dictionaries for Dracula\n",
        "dracula_char_indices = dict((c, i) for i, c in enumerate(dracula_unique_characters))\n",
        "dracula_indices_char = dict((i, c) for i, c in enumerate(dracula_unique_characters))\n",
        "print(\"Dracula indices to char dictionary:\", dracula_indices_char)\n",
        "\n",
        "# Creating a set of (i) character to index and (ii) index to character dictionaries for Moby Dick\n",
        "moby_dick_char_indices = dict((c, i) for i, c in enumerate(moby_dick_unique_characters))\n",
        "moby_dick_indices_char = dict((i, c) for i, c in enumerate(moby_dick_unique_characters))\n",
        "print(\"Moby Dick indices to char dictionary:\", moby_dick_indices_char)\n",
        "\n",
        "# Building combined dictionaries for the two texts\n",
        "combined_char_indices = dict((c, i) for i, c in enumerate(combined_unique_characters))\n",
        "combined_indices_char = dict((i, c) for i, c in enumerate(combined_unique_characters))\n",
        "print(\"Combined indices to char dictionary:\", combined_indices_char)\n",
        "\n",
        "# Initializing variables using in the one-hot encodings\n",
        "step_size = 10\n",
        "dracula_sentences = []\n",
        "moby_dick_sentences = []\n",
        "\n",
        "for i in range(0, len(dracula)-sequence_length, step_size):\n",
        "    dracula_sentences.append(dracula[i:i+sequence_length])\n",
        "\n",
        "for i in range(0, len(moby_dick)-sequence_length, step_size):\n",
        "    moby_dick_sentences.append(moby_dick[i:i+sequence_length])\n",
        "\n",
        "combined_sentences = dracula_sentences + moby_dick_sentences\n",
        "print(\"Length of combined sentences: \", len(combined_sentences))\n",
        "\n",
        "# Creating input and target data from sentences\n",
        "x = np.zeros((len(combined_sentences), sequence_length, len(combined_indices_char)))\n",
        "y = np.zeros((len(combined_sentences), 2), dtype=float)\n",
        "\n",
        "# Populating the input data with a 1 or 0 respective to author\n",
        "for i, sentence in enumerate(dracula_sentences):\n",
        "    for t, char in enumerate(sentence): \n",
        "        x[i,t,combined_char_indices[char]] = 1\n",
        "    y[i][0] = 1\n",
        "\n",
        "index_offset = len(dracula_sentences)\n",
        "\n",
        "for i, sentence in enumerate(moby_dick_sentences):\n",
        "    for t, char in enumerate(sentence): \n",
        "        x[i + index_offset, t, combined_char_indices[char]] = 1\n",
        "    y[i + index_offset][1] = 1\n",
        "\n",
        "# Outputting the shape of the input and target data\n",
        "print (\"Shape of the input data:\", x.shape)\n",
        "print (\"Shape of the target data:\", y.shape)"
      ],
      "execution_count": 69,
      "outputs": [
        {
          "output_type": "stream",
          "name": "stdout",
          "text": [
            "Dracula indices to char dictionary: {0: ' ', 1: '!', 2: '\"', 3: '#', 4: '$', 5: '%', 6: '&', 7: \"'\", 8: '(', 9: ')', 10: '*', 11: ',', 12: '-', 13: '.', 14: '/', 15: '0', 16: '1', 17: '2', 18: '3', 19: '4', 20: '5', 21: '6', 22: '7', 23: '8', 24: '9', 25: ':', 26: ';', 27: '=', 28: '>', 29: '?', 30: 'A', 31: 'B', 32: 'C', 33: 'D', 34: 'E', 35: 'F', 36: 'G', 37: 'H', 38: 'I', 39: 'J', 40: 'K', 41: 'L', 42: 'M', 43: 'N', 44: 'O', 45: 'P', 46: 'Q', 47: 'R', 48: 'S', 49: 'T', 50: 'U', 51: 'V', 52: 'W', 53: 'X', 54: 'Y', 55: 'Z', 56: '[', 57: ']', 58: '_', 59: 'a', 60: 'b', 61: 'c', 62: 'd', 63: 'e', 64: 'f', 65: 'g', 66: 'h', 67: 'i', 68: 'j', 69: 'k', 70: 'l', 71: 'm', 72: 'n', 73: 'o', 74: 'p', 75: 'q', 76: 'r', 77: 's', 78: 't', 79: 'u', 80: 'v', 81: 'w', 82: 'x', 83: 'y', 84: 'z', 85: '{', 86: '}', 87: '£', 88: 'à', 89: 'á', 90: 'â', 91: 'æ', 92: 'è', 93: 'é', 94: 'ë', 95: 'ï', 96: 'ô', 97: 'ö', 98: '—', 99: '’', 100: '“', 101: '”', 102: '\\ufeff'}\n",
            "Moby Dick indices to char dictionary: {0: ' ', 1: '!', 2: '\"', 3: '#', 4: '$', 5: '%', 6: '&', 7: \"'\", 8: '(', 9: ')', 10: '*', 11: ',', 12: '-', 13: '.', 14: '/', 15: '0', 16: '1', 17: '2', 18: '3', 19: '4', 20: '5', 21: '6', 22: '7', 23: '8', 24: '9', 25: ':', 26: ';', 27: '?', 28: 'A', 29: 'B', 30: 'C', 31: 'D', 32: 'E', 33: 'F', 34: 'G', 35: 'H', 36: 'I', 37: 'J', 38: 'K', 39: 'L', 40: 'M', 41: 'N', 42: 'O', 43: 'P', 44: 'Q', 45: 'R', 46: 'S', 47: 'T', 48: 'U', 49: 'V', 50: 'W', 51: 'X', 52: 'Y', 53: 'Z', 54: '[', 55: ']', 56: '_', 57: 'a', 58: 'b', 59: 'c', 60: 'd', 61: 'e', 62: 'f', 63: 'g', 64: 'h', 65: 'i', 66: 'j', 67: 'k', 68: 'l', 69: 'm', 70: 'n', 71: 'o', 72: 'p', 73: 'q', 74: 'r', 75: 's', 76: 't', 77: 'u', 78: 'v', 79: 'w', 80: 'x', 81: 'y', 82: 'z', 83: '£', 84: 'â', 85: 'æ', 86: 'è', 87: 'é', 88: 'Œ', 89: 'œ', 90: 'η', 91: 'ο', 92: 'ς', 93: 'τ', 94: 'ϰ', 95: 'ו', 96: 'ח', 97: '—', 98: '‘', 99: '’', 100: '“', 101: '”', 102: '\\ufeff'}\n",
            "Combined indices to char dictionary: {0: ' ', 1: '!', 2: '\"', 3: '#', 4: '$', 5: '%', 6: '&', 7: \"'\", 8: '(', 9: ')', 10: '*', 11: ',', 12: '-', 13: '.', 14: '/', 15: '0', 16: '1', 17: '2', 18: '3', 19: '4', 20: '5', 21: '6', 22: '7', 23: '8', 24: '9', 25: ':', 26: ';', 27: '=', 28: '>', 29: '?', 30: 'A', 31: 'B', 32: 'C', 33: 'D', 34: 'E', 35: 'F', 36: 'G', 37: 'H', 38: 'I', 39: 'J', 40: 'K', 41: 'L', 42: 'M', 43: 'N', 44: 'O', 45: 'P', 46: 'Q', 47: 'R', 48: 'S', 49: 'T', 50: 'U', 51: 'V', 52: 'W', 53: 'X', 54: 'Y', 55: 'Z', 56: '[', 57: ']', 58: '_', 59: 'a', 60: 'b', 61: 'c', 62: 'd', 63: 'e', 64: 'f', 65: 'g', 66: 'h', 67: 'i', 68: 'j', 69: 'k', 70: 'l', 71: 'm', 72: 'n', 73: 'o', 74: 'p', 75: 'q', 76: 'r', 77: 's', 78: 't', 79: 'u', 80: 'v', 81: 'w', 82: 'x', 83: 'y', 84: 'z', 85: '{', 86: '}', 87: '£', 88: 'à', 89: 'á', 90: 'â', 91: 'æ', 92: 'è', 93: 'é', 94: 'ë', 95: 'ï', 96: 'ô', 97: 'ö', 98: 'Œ', 99: 'œ', 100: 'η', 101: 'ο', 102: 'ς', 103: 'τ', 104: 'ϰ', 105: 'ו', 106: 'ח', 107: '—', 108: '‘', 109: '’', 110: '“', 111: '”', 112: '\\ufeff'}\n",
            "Length of combined sentences:  210396\n",
            "Shape of the input data: (210396, 60, 113)\n",
            "Shape of the target data: (210396, 2)\n"
          ]
        }
      ]
    },
    {
      "cell_type": "markdown",
      "metadata": {
        "id": "lL1Mc8ibHnep"
      },
      "source": [
        "## Data splitting\n",
        "Split the data into train, validate and test sets. Make "
      ]
    },
    {
      "cell_type": "code",
      "metadata": {
        "id": "ELyG9XFUHrkB"
      },
      "source": [],
      "execution_count": 67,
      "outputs": []
    },
    {
      "cell_type": "markdown",
      "metadata": {
        "id": "hA8U9tr7HrNQ"
      },
      "source": [
        "## Model definition\n",
        "Define a 1D CNN or an LSTM for the task. Compile the model with the correct loss function."
      ]
    },
    {
      "cell_type": "code",
      "metadata": {
        "id": "BT1V1s4kHuUe"
      },
      "source": [],
      "execution_count": null,
      "outputs": []
    },
    {
      "cell_type": "markdown",
      "metadata": {
        "id": "hWFb-nAMHuAI"
      },
      "source": [
        "## Model training\n",
        "Train the model and apply early stopping."
      ]
    },
    {
      "cell_type": "code",
      "metadata": {
        "id": "dvgKjqp3Hwkp"
      },
      "source": [],
      "execution_count": null,
      "outputs": []
    },
    {
      "cell_type": "markdown",
      "metadata": {
        "id": "0omw2XzSHwOo"
      },
      "source": [
        "## Evaluation on test data\n",
        "Evaluate the model on the test data in terms of loss and accuracy."
      ]
    },
    {
      "cell_type": "code",
      "metadata": {
        "id": "4bF3dQA1Hv_R"
      },
      "source": [],
      "execution_count": null,
      "outputs": []
    },
    {
      "cell_type": "markdown",
      "metadata": {
        "id": "4Y73Q-h5Hz1r"
      },
      "source": [
        "## Confusion matrix\n",
        "Calculate and display the confusion matrix."
      ]
    },
    {
      "cell_type": "code",
      "metadata": {
        "id": "cW8zZi1uJm2B"
      },
      "source": [],
      "execution_count": null,
      "outputs": []
    }
  ]
}